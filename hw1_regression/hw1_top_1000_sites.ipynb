{
 "cells": [
  {
   "cell_type": "markdown",
   "metadata": {},
   "source": [
    "# Mechine Leaning Homework 1"
   ]
  },
  {
   "cell_type": "code",
   "execution_count": 15,
   "metadata": {},
   "outputs": [],
   "source": [
    "!pip install numpy scipy pandas matplotlib scikit-learn statsmodels > /dev/null"
   ]
  },
  {
   "cell_type": "code",
   "execution_count": 16,
   "metadata": {},
   "outputs": [],
   "source": [
    "import numpy as np\n",
    "import scipy.stats as st\n",
    "import pandas as pd\n",
    "import matplotlib.pyplot as plt\n",
    "from sklearn import linear_model, metrics\n",
    "import statsmodels.api as sm"
   ]
  },
  {
   "cell_type": "code",
   "execution_count": 17,
   "metadata": {},
   "outputs": [
    {
     "name": "stdout",
     "output_type": "stream",
     "text": [
      "9 columns\n"
     ]
    },
    {
     "data": {
      "text/html": [
       "<div>\n",
       "<style scoped>\n",
       "    .dataframe tbody tr th:only-of-type {\n",
       "        vertical-align: middle;\n",
       "    }\n",
       "\n",
       "    .dataframe tbody tr th {\n",
       "        vertical-align: top;\n",
       "    }\n",
       "\n",
       "    .dataframe thead th {\n",
       "        text-align: right;\n",
       "    }\n",
       "</style>\n",
       "<table border=\"1\" class=\"dataframe\">\n",
       "  <thead>\n",
       "    <tr style=\"text-align: right;\">\n",
       "      <th></th>\n",
       "      <th>Rank</th>\n",
       "      <th>Site</th>\n",
       "      <th>Category</th>\n",
       "      <th>UniqueVisitors</th>\n",
       "      <th>Reach</th>\n",
       "      <th>PageViews</th>\n",
       "      <th>HasAdvertising</th>\n",
       "      <th>InEnglish</th>\n",
       "      <th>TLD</th>\n",
       "    </tr>\n",
       "  </thead>\n",
       "  <tbody>\n",
       "    <tr>\n",
       "      <th>0</th>\n",
       "      <td>1</td>\n",
       "      <td>facebook.com</td>\n",
       "      <td>Social Networks</td>\n",
       "      <td>880000000</td>\n",
       "      <td>47.2</td>\n",
       "      <td>910000000000</td>\n",
       "      <td>Yes</td>\n",
       "      <td>Yes</td>\n",
       "      <td>com</td>\n",
       "    </tr>\n",
       "    <tr>\n",
       "      <th>1</th>\n",
       "      <td>2</td>\n",
       "      <td>youtube.com</td>\n",
       "      <td>Online Video</td>\n",
       "      <td>800000000</td>\n",
       "      <td>42.7</td>\n",
       "      <td>100000000000</td>\n",
       "      <td>Yes</td>\n",
       "      <td>Yes</td>\n",
       "      <td>com</td>\n",
       "    </tr>\n",
       "    <tr>\n",
       "      <th>2</th>\n",
       "      <td>3</td>\n",
       "      <td>yahoo.com</td>\n",
       "      <td>Web Portals</td>\n",
       "      <td>660000000</td>\n",
       "      <td>35.3</td>\n",
       "      <td>77000000000</td>\n",
       "      <td>Yes</td>\n",
       "      <td>Yes</td>\n",
       "      <td>com</td>\n",
       "    </tr>\n",
       "    <tr>\n",
       "      <th>3</th>\n",
       "      <td>4</td>\n",
       "      <td>live.com</td>\n",
       "      <td>Search Engines</td>\n",
       "      <td>550000000</td>\n",
       "      <td>29.3</td>\n",
       "      <td>36000000000</td>\n",
       "      <td>Yes</td>\n",
       "      <td>Yes</td>\n",
       "      <td>com</td>\n",
       "    </tr>\n",
       "    <tr>\n",
       "      <th>4</th>\n",
       "      <td>5</td>\n",
       "      <td>wikipedia.org</td>\n",
       "      <td>Dictionaries &amp; Encyclopedias</td>\n",
       "      <td>490000000</td>\n",
       "      <td>26.2</td>\n",
       "      <td>7000000000</td>\n",
       "      <td>No</td>\n",
       "      <td>Yes</td>\n",
       "      <td>org</td>\n",
       "    </tr>\n",
       "  </tbody>\n",
       "</table>\n",
       "</div>"
      ],
      "text/plain": [
       "   Rank           Site                      Category  UniqueVisitors  Reach  \\\n",
       "0     1   facebook.com               Social Networks       880000000   47.2   \n",
       "1     2    youtube.com                  Online Video       800000000   42.7   \n",
       "2     3      yahoo.com                   Web Portals       660000000   35.3   \n",
       "3     4       live.com                Search Engines       550000000   29.3   \n",
       "4     5  wikipedia.org  Dictionaries & Encyclopedias       490000000   26.2   \n",
       "\n",
       "      PageViews HasAdvertising InEnglish  TLD  \n",
       "0  910000000000            Yes       Yes  com  \n",
       "1  100000000000            Yes       Yes  com  \n",
       "2   77000000000            Yes       Yes  com  \n",
       "3   36000000000            Yes       Yes  com  \n",
       "4    7000000000             No       Yes  org  "
      ]
     },
     "execution_count": 17,
     "metadata": {},
     "output_type": "execute_result"
    }
   ],
   "source": [
    "data = pd.read_csv('top_1000_sites.tsv', sep='\\t')\n",
    "print(f'{len(data.columns)} columns')\n",
    "data.head()"
   ]
  },
  {
   "cell_type": "code",
   "execution_count": 18,
   "metadata": {},
   "outputs": [
    {
     "name": "stdout",
     "output_type": "stream",
     "text": [
      "<class 'pandas.core.frame.DataFrame'>\n",
      "RangeIndex: 1000 entries, 0 to 999\n",
      "Data columns (total 9 columns):\n",
      " #   Column          Non-Null Count  Dtype  \n",
      "---  ------          --------------  -----  \n",
      " 0   Rank            1000 non-null   int64  \n",
      " 1   Site            1000 non-null   object \n",
      " 2   Category        953 non-null    object \n",
      " 3   UniqueVisitors  1000 non-null   int64  \n",
      " 4   Reach           1000 non-null   float64\n",
      " 5   PageViews       1000 non-null   int64  \n",
      " 6   HasAdvertising  1000 non-null   object \n",
      " 7   InEnglish       100 non-null    object \n",
      " 8   TLD             100 non-null    object \n",
      "dtypes: float64(1), int64(3), object(5)\n",
      "memory usage: 50.8+ KB\n"
     ]
    }
   ],
   "source": [
    "data.info()"
   ]
  },
  {
   "cell_type": "code",
   "execution_count": 19,
   "metadata": {},
   "outputs": [
    {
     "data": {
      "text/html": [
       "<div>\n",
       "<style scoped>\n",
       "    .dataframe tbody tr th:only-of-type {\n",
       "        vertical-align: middle;\n",
       "    }\n",
       "\n",
       "    .dataframe tbody tr th {\n",
       "        vertical-align: top;\n",
       "    }\n",
       "\n",
       "    .dataframe thead th {\n",
       "        text-align: right;\n",
       "    }\n",
       "</style>\n",
       "<table border=\"1\" class=\"dataframe\">\n",
       "  <thead>\n",
       "    <tr style=\"text-align: right;\">\n",
       "      <th></th>\n",
       "      <th>Rank</th>\n",
       "      <th>UniqueVisitors</th>\n",
       "      <th>Reach</th>\n",
       "      <th>PageViews</th>\n",
       "    </tr>\n",
       "  </thead>\n",
       "  <tbody>\n",
       "    <tr>\n",
       "      <th>count</th>\n",
       "      <td>1000.000000</td>\n",
       "      <td>1.000000e+03</td>\n",
       "      <td>1000.000000</td>\n",
       "      <td>1.000000e+03</td>\n",
       "    </tr>\n",
       "    <tr>\n",
       "      <th>mean</th>\n",
       "      <td>500.500000</td>\n",
       "      <td>2.322200e+07</td>\n",
       "      <td>1.242500</td>\n",
       "      <td>2.106065e+09</td>\n",
       "    </tr>\n",
       "    <tr>\n",
       "      <th>std</th>\n",
       "      <td>288.819436</td>\n",
       "      <td>5.841631e+07</td>\n",
       "      <td>3.123575</td>\n",
       "      <td>2.954359e+10</td>\n",
       "    </tr>\n",
       "    <tr>\n",
       "      <th>min</th>\n",
       "      <td>1.000000</td>\n",
       "      <td>6.200000e+06</td>\n",
       "      <td>0.300000</td>\n",
       "      <td>1.100000e+07</td>\n",
       "    </tr>\n",
       "    <tr>\n",
       "      <th>25%</th>\n",
       "      <td>250.750000</td>\n",
       "      <td>8.200000e+06</td>\n",
       "      <td>0.400000</td>\n",
       "      <td>7.300000e+07</td>\n",
       "    </tr>\n",
       "    <tr>\n",
       "      <th>50%</th>\n",
       "      <td>500.500000</td>\n",
       "      <td>1.100000e+07</td>\n",
       "      <td>0.600000</td>\n",
       "      <td>1.700000e+08</td>\n",
       "    </tr>\n",
       "    <tr>\n",
       "      <th>75%</th>\n",
       "      <td>750.250000</td>\n",
       "      <td>1.900000e+07</td>\n",
       "      <td>1.000000</td>\n",
       "      <td>4.500000e+08</td>\n",
       "    </tr>\n",
       "    <tr>\n",
       "      <th>max</th>\n",
       "      <td>1000.000000</td>\n",
       "      <td>8.800000e+08</td>\n",
       "      <td>47.200000</td>\n",
       "      <td>9.100000e+11</td>\n",
       "    </tr>\n",
       "  </tbody>\n",
       "</table>\n",
       "</div>"
      ],
      "text/plain": [
       "              Rank  UniqueVisitors        Reach     PageViews\n",
       "count  1000.000000    1.000000e+03  1000.000000  1.000000e+03\n",
       "mean    500.500000    2.322200e+07     1.242500  2.106065e+09\n",
       "std     288.819436    5.841631e+07     3.123575  2.954359e+10\n",
       "min       1.000000    6.200000e+06     0.300000  1.100000e+07\n",
       "25%     250.750000    8.200000e+06     0.400000  7.300000e+07\n",
       "50%     500.500000    1.100000e+07     0.600000  1.700000e+08\n",
       "75%     750.250000    1.900000e+07     1.000000  4.500000e+08\n",
       "max    1000.000000    8.800000e+08    47.200000  9.100000e+11"
      ]
     },
     "execution_count": 19,
     "metadata": {},
     "output_type": "execute_result"
    }
   ],
   "source": [
    "data.describe()"
   ]
  },
  {
   "cell_type": "code",
   "execution_count": 20,
   "metadata": {},
   "outputs": [
    {
     "data": {
      "text/plain": [
       "Rank                0\n",
       "Site                0\n",
       "Category           47\n",
       "UniqueVisitors      0\n",
       "Reach               0\n",
       "PageViews           0\n",
       "HasAdvertising      0\n",
       "InEnglish         900\n",
       "TLD               900\n",
       "dtype: int64"
      ]
     },
     "execution_count": 20,
     "metadata": {},
     "output_type": "execute_result"
    }
   ],
   "source": [
    "data.isnull().sum()"
   ]
  },
  {
   "cell_type": "code",
   "execution_count": 21,
   "metadata": {},
   "outputs": [
    {
     "name": "stdout",
     "output_type": "stream",
     "text": [
      "(1000,) (1000,)\n"
     ]
    },
    {
     "data": {
      "text/plain": [
       "Text(0, 0.5, 'PageViews')"
      ]
     },
     "execution_count": 21,
     "metadata": {},
     "output_type": "execute_result"
    },
    {
     "data": {
      "image/png": "[encoded data removed]",
      "text/plain": [
       "<Figure size 360x360 with 1 Axes>"
      ]
     },
     "metadata": {
      "needs_background": "light"
     },
     "output_type": "display_data"
    }
   ],
   "source": [
    "X = data['UniqueVisitors'].values\n",
    "Y = data['PageViews'].values\n",
    "print(X.shape, Y.shape)\n",
    "\n",
    "# plt.figure(figsize=(8, 8))  # for a single figure\n",
    "plt.rcParams[\"figure.figsize\"] = (5, 5)  # for all figures below\n",
    "\n",
    "plt.scatter(X, Y, s=10)\n",
    "plt.xlabel('UniqueVisitors')\n",
    "plt.ylabel('PageViews')"
   ]
  },
  {
   "cell_type": "code",
   "execution_count": 22,
   "metadata": {},
   "outputs": [
    {
     "data": {
      "image/png": "[encoded data removed]",
      "text/plain": [
       "<Figure size 360x360 with 1 Axes>"
      ]
     },
     "metadata": {
      "needs_background": "light"
     },
     "output_type": "display_data"
    }
   ],
   "source": [
    "y = Y.copy()\n",
    "y.sort()\n",
    "density = st.gaussian_kde(y)\n",
    "plt.plot(y, density(y))\n",
    "plt.xlabel('PageViews')\n",
    "plt.ylabel('density')\n",
    "plt.show()"
   ]
  },
  {
   "cell_type": "code",
   "execution_count": 23,
   "metadata": {},
   "outputs": [
    {
     "data": {
      "image/png": "[encoded data removed]",
      "text/plain": [
       "<Figure size 360x360 with 1 Axes>"
      ]
     },
     "metadata": {
      "needs_background": "light"
     },
     "output_type": "display_data"
    }
   ],
   "source": [
    "log_y = np.log(y)\n",
    "density = st.gaussian_kde(log_y)\n",
    "plt.plot(log_y, density(log_y))\n",
    "plt.xlabel('log(PageViews)')\n",
    "plt.ylabel('density')\n",
    "plt.show()"
   ]
  },
  {
   "cell_type": "code",
   "execution_count": 24,
   "metadata": {},
   "outputs": [
    {
     "data": {
      "text/plain": [
       "Text(0, 0.5, 'log(PageViews)')"
      ]
     },
     "execution_count": 24,
     "metadata": {},
     "output_type": "execute_result"
    },
    {
     "data": {
      "image/png": "[encoded data removed]",
      "text/plain": [
       "<Figure size 360x360 with 1 Axes>"
      ]
     },
     "metadata": {
      "needs_background": "light"
     },
     "output_type": "display_data"
    }
   ],
   "source": [
    "x = np.log(X)\n",
    "y = np.log(Y)\n",
    "plt.scatter(x, y, s=10)\n",
    "plt.xlabel('log(UniqueVisitors)')\n",
    "plt.ylabel('log(PageViews)')"
   ]
  },
  {
   "cell_type": "code",
   "execution_count": 25,
   "metadata": {},
   "outputs": [
    {
     "name": "stdout",
     "output_type": "stream",
     "text": [
      "MSE = 1.1720\n",
      "RMSE = 1.0826\n",
      "RSE = 1.084\n",
      "R² = 0.4616\n",
      "adjusted R² = 0.4611\n",
      "y = 1.3363 x -2.8344\n"
     ]
    },
    {
     "data": {
      "image/png": "[encoded data removed]",
      "text/plain": [
       "<Figure size 360x360 with 1 Axes>"
      ]
     },
     "metadata": {
      "needs_background": "light"
     },
     "output_type": "display_data"
    }
   ],
   "source": [
    "model = linear_model.LinearRegression()\n",
    "x = x.reshape(-1, 1)\n",
    "y = y.reshape(-1, 1)\n",
    "model.fit(x, y)\n",
    "y_pred = model.predict(x)\n",
    "\n",
    "plt.scatter(x, y, s=10)\n",
    "plt.plot(x, y_pred, c='red')\n",
    "plt.xlabel('log(UniqueVisitors)')\n",
    "plt.ylabel('log(PageViews)')\n",
    "\n",
    "mse = metrics.mean_squared_error(y, y_pred)\n",
    "r2 = metrics.r2_score(y, y_pred)\n",
    "r2_adj = 1 - (1 - r2) * (1000 - 1) / (1000 - 2)\n",
    "rss = mse * (1000)\n",
    "rse = np.sqrt(rss / (1000 - 2))\n",
    "\n",
    "print(f'MSE = {mse:.4f}')\n",
    "print(f'RMSE = {np.sqrt(mse):.4f}')\n",
    "print(f'RSE = {rse:.3f}')\n",
    "print(f'R² = {r2:.4f}')\n",
    "print(f'adjusted R² = {r2_adj:.4f}')\n",
    "\n",
    "print(f'y = {model.coef_[0][0]:.4f} x {model.intercept_[0]:.4f}')"
   ]
  },
  {
   "cell_type": "code",
   "execution_count": 26,
   "metadata": {},
   "outputs": [
    {
     "data": {
      "text/html": [
       "<table class=\"simpletable\">\n",
       "<caption>OLS Regression Results</caption>\n",
       "<tr>\n",
       "  <th>Dep. Variable:</th>        <td>PageViews</td>    <th>  R-squared:         </th> <td>   0.462</td> \n",
       "</tr>\n",
       "<tr>\n",
       "  <th>Model:</th>                   <td>OLS</td>       <th>  Adj. R-squared:    </th> <td>   0.461</td> \n",
       "</tr>\n",
       "<tr>\n",
       "  <th>Method:</th>             <td>Least Squares</td>  <th>  F-statistic:       </th> <td>   855.6</td> \n",
       "</tr>\n",
       "<tr>\n",
       "  <th>Date:</th>             <td>Tue, 18 May 2021</td> <th>  Prob (F-statistic):</th> <td>2.46e-136</td>\n",
       "</tr>\n",
       "<tr>\n",
       "  <th>Time:</th>                 <td>15:34:27</td>     <th>  Log-Likelihood:    </th> <td> -1498.3</td> \n",
       "</tr>\n",
       "<tr>\n",
       "  <th>No. Observations:</th>      <td>  1000</td>      <th>  AIC:               </th> <td>   3001.</td> \n",
       "</tr>\n",
       "<tr>\n",
       "  <th>Df Residuals:</th>          <td>   998</td>      <th>  BIC:               </th> <td>   3010.</td> \n",
       "</tr>\n",
       "<tr>\n",
       "  <th>Df Model:</th>              <td>     1</td>      <th>                     </th>     <td> </td>    \n",
       "</tr>\n",
       "<tr>\n",
       "  <th>Covariance Type:</th>      <td>nonrobust</td>    <th>                     </th>     <td> </td>    \n",
       "</tr>\n",
       "</table>\n",
       "<table class=\"simpletable\">\n",
       "<tr>\n",
       "           <td></td>              <th>coef</th>     <th>std err</th>      <th>t</th>      <th>P>|t|</th>  <th>[0.025</th>    <th>0.975]</th>  \n",
       "</tr>\n",
       "<tr>\n",
       "  <th>const</th>               <td>   -2.8344</td> <td>    0.752</td> <td>   -3.769</td> <td> 0.000</td> <td>   -4.310</td> <td>   -1.359</td>\n",
       "</tr>\n",
       "<tr>\n",
       "  <th>log(UniqueVisitors)</th> <td>    1.3363</td> <td>    0.046</td> <td>   29.251</td> <td> 0.000</td> <td>    1.247</td> <td>    1.426</td>\n",
       "</tr>\n",
       "</table>\n",
       "<table class=\"simpletable\">\n",
       "<tr>\n",
       "  <th>Omnibus:</th>       <td>68.454</td> <th>  Durbin-Watson:     </th> <td>   2.068</td>\n",
       "</tr>\n",
       "<tr>\n",
       "  <th>Prob(Omnibus):</th> <td> 0.000</td> <th>  Jarque-Bera (JB):  </th> <td>  85.893</td>\n",
       "</tr>\n",
       "<tr>\n",
       "  <th>Skew:</th>          <td> 0.615</td> <th>  Prob(JB):          </th> <td>2.23e-19</td>\n",
       "</tr>\n",
       "<tr>\n",
       "  <th>Kurtosis:</th>      <td> 3.742</td> <th>  Cond. No.          </th> <td>    363.</td>\n",
       "</tr>\n",
       "</table><br/><br/>Notes:<br/>[1] Standard Errors assume that the covariance matrix of the errors is correctly specified."
      ],
      "text/plain": [
       "<class 'statsmodels.iolib.summary.Summary'>\n",
       "\"\"\"\n",
       "                            OLS Regression Results                            \n",
       "==============================================================================\n",
       "Dep. Variable:              PageViews   R-squared:                       0.462\n",
       "Model:                            OLS   Adj. R-squared:                  0.461\n",
       "Method:                 Least Squares   F-statistic:                     855.6\n",
       "Date:                Tue, 18 May 2021   Prob (F-statistic):          2.46e-136\n",
       "Time:                        15:34:27   Log-Likelihood:                -1498.3\n",
       "No. Observations:                1000   AIC:                             3001.\n",
       "Df Residuals:                     998   BIC:                             3010.\n",
       "Df Model:                           1                                         \n",
       "Covariance Type:            nonrobust                                         \n",
       "=======================================================================================\n",
       "                          coef    std err          t      P>|t|      [0.025      0.975]\n",
       "---------------------------------------------------------------------------------------\n",
       "const                  -2.8344      0.752     -3.769      0.000      -4.310      -1.359\n",
       "log(UniqueVisitors)     1.3363      0.046     29.251      0.000       1.247       1.426\n",
       "==============================================================================\n",
       "Omnibus:                       68.454   Durbin-Watson:                   2.068\n",
       "Prob(Omnibus):                  0.000   Jarque-Bera (JB):               85.893\n",
       "Skew:                           0.615   Prob(JB):                     2.23e-19\n",
       "Kurtosis:                       3.742   Cond. No.                         363.\n",
       "==============================================================================\n",
       "\n",
       "Notes:\n",
       "[1] Standard Errors assume that the covariance matrix of the errors is correctly specified.\n",
       "\"\"\""
      ]
     },
     "execution_count": 26,
     "metadata": {},
     "output_type": "execute_result"
    }
   ],
   "source": [
    "data = data.rename(columns={'UniqueVisitors': 'log(UniqueVisitors)'})\n",
    "X = np.log(data['log(UniqueVisitors)'])\n",
    "y = np.log(data['PageViews'])\n",
    "\n",
    "X2 = sm.add_constant(X)\n",
    "sm.OLS(y, X2).fit().summary()"
   ]
  }
 ],
 "metadata": {
  "kernelspec": {
   "display_name": "Python 3",
   "language": "python",
   "name": "python3"
  },
  "language_info": {
   "codemirror_mode": {
    "name": "ipython",
    "version": 3
   },
   "file_extension": ".py",
   "mimetype": "text/x-python",
   "name": "python",
   "nbconvert_exporter": "python",
   "pygments_lexer": "ipython3",
   "version": "3.8.3"
  }
 },
 "nbformat": 4,
 "nbformat_minor": 4
}
